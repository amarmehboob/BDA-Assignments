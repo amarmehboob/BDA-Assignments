{
 "cells": [
  {
   "cell_type": "markdown",
   "id": "ae915800",
   "metadata": {},
   "source": [
    "# Question1"
   ]
  },
  {
   "cell_type": "code",
   "execution_count": 3,
   "id": "0156006a",
   "metadata": {},
   "outputs": [
    {
     "name": "stdout",
     "output_type": "stream",
     "text": [
      "Enter the Principal amount: 1500\n",
      "Enter Interest Rate :4.3\n",
      "Enter the number of Years: 4\n",
      "After 4 years at 4.3%, the investment will be worth $1758.0.\n"
     ]
    }
   ],
   "source": [
    "Principal = int(input(\"Enter the Principal amount: \" ,))\n",
    "Rate = float(input(\"Enter Interest Rate :\"),)\n",
    "Years = int(input(\"Enter the number of Years: \",))\n",
    "\n",
    "a = Principal *(1+((Rate/100)*years))\n",
    "\n",
    "print(f\"After {Years} years at {Rate}%, the investment will be worth ${a}.\")"
   ]
  },
  {
   "cell_type": "markdown",
   "id": "cc66258b",
   "metadata": {},
   "source": [
    "# Question2"
   ]
  },
  {
   "cell_type": "code",
   "execution_count": 6,
   "id": "e831af7e",
   "metadata": {},
   "outputs": [
    {
     "name": "stdout",
     "output_type": "stream",
     "text": [
      "What is Order Amount ? 10\n",
      "What is the State ? WI\n",
      "The tax is $0.55\n",
      "The total is 10.55\n"
     ]
    }
   ],
   "source": [
    "Order_Amount = int(input(\"What is Order Amount ? \"))\n",
    "State = input(\"What is the State ? \")\n",
    "\n",
    "if State == \"WI\" :\n",
    "    A = (Order_Amount*5.5)/100\n",
    "    print (f'The tax is ${A}\\nThe total is {A+Order_Amount}')\n",
    "else:\n",
    "    print (f'The total is ${Order_Amount}')"
   ]
  },
  {
   "cell_type": "markdown",
   "id": "259d8b12",
   "metadata": {},
   "source": [
    "# Question 3"
   ]
  },
  {
   "cell_type": "code",
   "execution_count": 7,
   "id": "58ef769f",
   "metadata": {},
   "outputs": [
    {
     "name": "stdout",
     "output_type": "stream",
     "text": [
      "What is the password?12345\n",
      "I don't know you.\n"
     ]
    }
   ],
   "source": [
    "Pass= input(\"What is the password?\")\n",
    "if( Pass=='abc$123'):\n",
    " print (\"Welcome!\")\n",
    " \n",
    "elif ( Pass=='12345'):\n",
    "  print (\"I don't know you.\")\n",
    "else :\n",
    "  print (\"I don't know you.\")"
   ]
  },
  {
   "cell_type": "markdown",
   "id": "f19c4bd2",
   "metadata": {},
   "source": [
    "# Question 4"
   ]
  },
  {
   "cell_type": "code",
   "execution_count": 8,
   "id": "fe71b3c0",
   "metadata": {},
   "outputs": [
    {
     "name": "stdout",
     "output_type": "stream",
     "text": [
      "What is your age 35\n",
      "You are old enough to Drive\n"
     ]
    }
   ],
   "source": [
    "Age = int(input(\"What is your age \" ))\n",
    "\n",
    "if Age < 16:\n",
    "    print(\"You are not old enough to legally Drive\")\n",
    "else:\n",
    "    print(\"You are old enough to Drive\")"
   ]
  },
  {
   "cell_type": "markdown",
   "id": "0cc0af83",
   "metadata": {},
   "source": [
    "# Question5"
   ]
  },
  {
   "cell_type": "code",
   "execution_count": 16,
   "id": "3ff33ba1",
   "metadata": {},
   "outputs": [
    {
     "name": "stdout",
     "output_type": "stream",
     "text": [
      " Press C to conver Farhrenheit to Celsius\n",
      " Press F to conver Celsius to Farhrenheit\n",
      " Your Choice is : F\n",
      "Enter the Tempurature: 32\n",
      "The temperature in Clesius is 0 \n"
     ]
    }
   ],
   "source": [
    "print(\" Press C to conver Farhrenheit to Celsius\")\n",
    "print(\" Press F to conver Celsius to Farhrenheit\")\n",
    "\n",
    "\n",
    "Choice= str(input(\" Your Choice is : \"))\n",
    "temperature = int(input(\"Enter the Tempurature: \"))\n",
    "X = 0\n",
    "\n",
    "if Choice ==\"C\" or Choice == \"c\":\n",
    "    X =  (temperature-32) *5/9\n",
    "    print(f\"The temperature in Clesius is {X} \")\n",
    "\n",
    "else:\n",
    "    temp = (temperature*9/50) +32\n",
    "    print(f\"The temperature in Clesius is {X} \")"
   ]
  },
  {
   "cell_type": "code",
   "execution_count": null,
   "id": "83d57fae",
   "metadata": {},
   "outputs": [],
   "source": []
  }
 ],
 "metadata": {
  "kernelspec": {
   "display_name": "Python 3",
   "language": "python",
   "name": "python3"
  }
 },
 "nbformat": 4,
 "nbformat_minor": 5
}
